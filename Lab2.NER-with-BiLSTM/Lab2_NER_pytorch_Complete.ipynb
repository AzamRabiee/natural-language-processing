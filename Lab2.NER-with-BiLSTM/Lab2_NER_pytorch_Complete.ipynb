{
  "nbformat": 4,
  "nbformat_minor": 0,
  "metadata": {
    "accelerator": "GPU",
    "colab": {
      "name": "Lab2-NER-pytorch-Complete.ipynb",
      "provenance": [],
      "collapsed_sections": [],
      "toc_visible": true
    },
    "kernelspec": {
      "display_name": "Python 3",
      "language": "python",
      "name": "python3"
    },
    "language_info": {
      "codemirror_mode": {
        "name": "ipython",
        "version": 3
      },
      "file_extension": ".py",
      "mimetype": "text/x-python",
      "name": "python",
      "nbconvert_exporter": "python",
      "pygments_lexer": "ipython3",
      "version": "3.4.3"
    }
  },
  "cells": [
    {
      "cell_type": "markdown",
      "metadata": {
        "collapsed": true,
        "id": "tUC02h2AZxbf"
      },
      "source": [
        "# Recognize named entities on Twitter with LSTMs\n",
        "\n",
        "In this assignment, you will use a recurrent neural network to solve Named Entity Recognition (NER) problem. NER is a common task in natural language processing systems. It serves for extraction such entities from the text as persons, organizations, locations, etc. In this task you will experiment to recognize named entities from Twitter.\n",
        "\n",
        "For example, we want to extract persons' and organizations' names from the text. Than for the input text:\n",
        "\n",
        "    Ian Goodfellow works for Google Brain\n",
        "\n",
        "a NER model needs to provide the following sequence of tags:\n",
        "\n",
        "    B-PER I-PER    O     O   B-ORG  I-ORG\n",
        "\n",
        "Where *B-* and *I-* prefixes stand for the beginning and inside of the entity, while *O* stands for out of tag or no tag. Markup with the prefix scheme is called *BIO markup*. This markup is introduced for distinguishing of consequent entities with similar types.\n",
        "\n",
        "A solution of the task will be based on neural networks, particularly, on Bi-Directional Long Short-Term Memory Networks (Bi-LSTMs).\n",
        "\n",
        "### Libraries\n",
        "\n",
        "For this task you will need the following libraries:\n",
        " - [pytorch](https://pytorch.org/) — an open-source software library for Machine Intelligence.\n",
        "    \n",
        " - [Numpy](http://www.numpy.org) — a package for scientific computing.\n",
        " "
      ]
    },
    {
      "cell_type": "markdown",
      "metadata": {
        "id": "cfFm1a75Zxbg"
      },
      "source": [
        "# 1. Data\n"
      ]
    },
    {
      "cell_type": "markdown",
      "metadata": {
        "id": "AXXgDPMWGcv1"
      },
      "source": [
        "### 1.1. Get Resources\n",
        "The following cell will download all data required for this assignment into the folder `./data`."
      ]
    },
    {
      "cell_type": "code",
      "metadata": {
        "id": "1OnOcAweZxbh"
      },
      "source": [
        "try:\n",
        "    import google.colab\n",
        "    IN_COLAB = True\n",
        "except:\n",
        "    IN_COLAB = False\n",
        "\n",
        "if IN_COLAB:\n",
        "    ! wget https://raw.githubusercontent.com/hse-aml/natural-language-processing/master/setup_google_colab.py -O setup_google_colab.py\n",
        "    import setup_google_colab\n",
        "    setup_google_colab.setup_week2()\n",
        "\n",
        "import sys\n",
        "sys.path.append(\"..\")\n",
        "from common.download_utils import download_week2_resources\n",
        "\n",
        "download_week2_resources()"
      ],
      "execution_count": null,
      "outputs": []
    },
    {
      "cell_type": "markdown",
      "metadata": {
        "id": "-9rmHTRHZxbk"
      },
      "source": [
        "### 1.2. Load the Twitter Named Entity Recognition corpus\n",
        "\n",
        "We will work with a corpus, which contains tweets with NE tags. Every line of a file contains a pair of a token (word/punctuation symbol) and a tag, separated by a whitespace. Different tweets are separated by an empty line.\n",
        "\n",
        "The function *read_data* reads a corpus from the *file_path* and returns two lists: one with tokens and one with the corresponding tags. You need to complete this function by adding a code, which will replace a user's nickname to `<USR>` token and any URL to `<URL>` token. You could think that a URL and a nickname are just strings which start with *http://* or *https://* in case of URLs and a *@* symbol for nicknames."
      ]
    },
    {
      "cell_type": "code",
      "metadata": {
        "id": "t1auNuazZxbl"
      },
      "source": [
        "def read_data(file_path):\n",
        "    tokens = []\n",
        "    tags = []\n",
        "    \n",
        "    tweet_tokens = []\n",
        "    tweet_tags = []\n",
        "    for line in open(file_path, encoding='utf-8'):\n",
        "        line = line.strip()\n",
        "        if not line:\n",
        "            if tweet_tokens:\n",
        "                tokens.append(tweet_tokens)\n",
        "                tags.append(tweet_tags)\n",
        "            tweet_tokens = []\n",
        "            tweet_tags = []\n",
        "        else:\n",
        "            token, tag = line.split()\n",
        "            # Replace all urls with <URL> token\n",
        "            # Replace all users with <USR> token\n",
        "\n",
        "            if token.lower().startswith(\"http://\") or token.lower().startswith(\"https://\"):\n",
        "              token = \"<URL>\"\n",
        "            if token.startswith(\"@\"):\n",
        "              token = \"<USR>\"\n",
        "                \n",
        "            tweet_tokens.append(token)\n",
        "            tweet_tags.append(tag)\n",
        "            \n",
        "    return tokens, tags"
      ],
      "execution_count": 3,
      "outputs": []
    },
    {
      "cell_type": "markdown",
      "metadata": {
        "id": "k47H-84bZxbn"
      },
      "source": [
        "And now we can load three separate parts of the dataset:\n",
        " - *train* data for training the model;\n",
        " - *validation* data for evaluation and hyperparameters tuning;\n",
        " - *test* data for final evaluation of the model."
      ]
    },
    {
      "cell_type": "code",
      "metadata": {
        "id": "KuzybiCvZxbo"
      },
      "source": [
        "train_tokens, train_tags = read_data('data/train.txt')\n",
        "validation_tokens, validation_tags = read_data('data/validation.txt')\n",
        "test_tokens, test_tags = read_data('data/test.txt')"
      ],
      "execution_count": 4,
      "outputs": []
    },
    {
      "cell_type": "markdown",
      "metadata": {
        "id": "FEvX7kivZxbq"
      },
      "source": [
        "You should always understand what kind of data you deal with. For this purpose, you can print the data running the following cell:"
      ]
    },
    {
      "cell_type": "code",
      "metadata": {
        "colab": {
          "base_uri": "https://localhost:8080/"
        },
        "id": "D4thLr1xGTh0",
        "outputId": "6144703e-b618-4adc-c9be-6b75a9c3e06a"
      },
      "source": [
        "print(\"Number of training samples: \\t\\t\", len(train_tokens))\n",
        "print(\"Number of validation samples: \\t\\t\", len(validation_tokens))\n",
        "print(\"Number of test samples: \\t\\t\", len(test_tokens))"
      ],
      "execution_count": 4,
      "outputs": [
        {
          "output_type": "stream",
          "text": [
            "Number of training samples: \t\t 5795\n",
            "Number of validation samples: \t\t 724\n",
            "Number of test samples: \t\t 724\n"
          ],
          "name": "stdout"
        }
      ]
    },
    {
      "cell_type": "code",
      "metadata": {
        "id": "ssJtjq-AZxbr"
      },
      "source": [
        "for i in range(2):\n",
        "    for token, tag in zip(train_tokens[i], train_tags[i]):\n",
        "        print('%s\\t%s' % (token, tag))\n",
        "    print()"
      ],
      "execution_count": null,
      "outputs": []
    },
    {
      "cell_type": "markdown",
      "metadata": {
        "id": "VK59OTpwZxbt"
      },
      "source": [
        "### 1.3. Prepare dictionaries\n",
        "\n",
        "To train a neural network, we will use two mappings: \n",
        "- {token}$\\to${token id}: address the row in embeddings matrix for the current token;\n",
        "- {tag}$\\to${tag id}: one-hot ground truth probability distribution vectors for computing the loss at the output of the network.\n",
        "\n",
        "Now you need to implement the function *build_dict* which will return {token or tag}$\\to${index} and vice versa. "
      ]
    },
    {
      "cell_type": "code",
      "metadata": {
        "id": "Xo7tkqv8Zxbt"
      },
      "source": [
        "from collections import defaultdict\n",
        "import numpy as np"
      ],
      "execution_count": 5,
      "outputs": []
    },
    {
      "cell_type": "code",
      "metadata": {
        "id": "WfUx5jYZZxbw"
      },
      "source": [
        "def build_dict(tokens_or_tags, special_tokens):\n",
        "    \"\"\"\n",
        "        tokens_or_tags: a list of lists of tokens or tags\n",
        "        special_tokens: some special tokens\n",
        "    \"\"\"\n",
        "    # Create a dictionary with default value 0\n",
        "    # The lambda function gets called whenever it needs a default value.\n",
        "    tok2idx = defaultdict(lambda: 0)\n",
        "    idx2tok = []\n",
        "    \n",
        "    # Create mappings from tokens (or tags) to indices and vice versa.\n",
        "    # At first, add special tokens (or tags) to the dictionaries.\n",
        "    # The first special token must have index 0.\n",
        "    idx = 0\n",
        "    for token in special_tokens:\n",
        "      tok2idx.update({token: idx})\n",
        "      idx2tok.append(token)\n",
        "      idx += 1\n",
        "    \n",
        "    # Mapping tok2idx should contain each token or tag only once. \n",
        "    # To do so, you should:\n",
        "    # 1. extract unique tokens/tags from the tokens_or_tags variable, which is not\n",
        "    #    occur in special_tokens (because they could have non-empty intersection)\n",
        "    # 2. index them (for example, you can add them into the list idx2tok\n",
        "    # 3. for each token/tag save the index into tok2idx).\n",
        "    \n",
        "    for token_list in tokens_or_tags:\n",
        "      for token in token_list:\n",
        "        if token not in tok2idx:\n",
        "          tok2idx.update({token: idx})\n",
        "          idx2tok.append(token)\n",
        "          idx += 1\n",
        "    return tok2idx, idx2tok"
      ],
      "execution_count": 21,
      "outputs": []
    },
    {
      "cell_type": "markdown",
      "metadata": {
        "id": "q5iG1f1VZxby"
      },
      "source": [
        "After implementing the function *build_dict* you can make dictionaries for tokens and tags. Special tokens in our case will be:\n",
        " - `<UNK>` token for out of vocabulary tokens;\n",
        " - `<PAD>` token for padding sentence to the same length when we create batches of sentences."
      ]
    },
    {
      "cell_type": "code",
      "metadata": {
        "id": "DEswFgQAZxbz"
      },
      "source": [
        "special_tokens = ['<UNK>', '<PAD>']\n",
        "special_tags = ['O']\n",
        "\n",
        "# Create dictionaries \n",
        "token2idx, idx2token = build_dict(train_tokens + validation_tokens, special_tokens)\n",
        "tag2idx, idx2tag = build_dict(train_tags, special_tags)"
      ],
      "execution_count": 22,
      "outputs": []
    },
    {
      "cell_type": "markdown",
      "metadata": {
        "id": "_oM0RI6-Zxb3"
      },
      "source": [
        "### 1.4. Generate batches\n",
        "\n",
        "Neural Networks are usually trained with batches. It means that weight updates of the network are based on several sequences at every single time. The tricky part is that all sequences within a batch need to have the same length. So we will pad them with a special `<PAD>` token. It is also a good practice to provide RNN with sequence lengths, so it can skip computations for padding parts. We provide the batching function *batches_generator* readily available for you to save time. "
      ]
    },
    {
      "cell_type": "code",
      "metadata": {
        "id": "-gfbY7kQZxb3"
      },
      "source": [
        "def batches_generator(batch_size, tokens, tags,\n",
        "                      shuffle=True, allow_smaller_last_batch=True):\n",
        "    \"\"\"Generates padded batches of tokens and tags.\"\"\"\n",
        "    n_samples = len(tokens)\n",
        "    if shuffle:\n",
        "        order = np.random.permutation(n_samples)\n",
        "    else:\n",
        "        order = np.arange(n_samples)\n",
        "\n",
        "    n_batches = n_samples // batch_size\n",
        "    if allow_smaller_last_batch and n_samples % batch_size:\n",
        "        n_batches += 1\n",
        "\n",
        "    for k in range(n_batches):\n",
        "        batch_start = k * batch_size\n",
        "        batch_end = min((k + 1) * batch_size, n_samples)\n",
        "        current_batch_size = batch_end - batch_start\n",
        "        x_list = []\n",
        "        y_list = []\n",
        "        max_len_token = 0\n",
        "        for idx in order[batch_start: batch_end]:\n",
        "            x_list.append(words2idxs(tokens[idx]))\n",
        "            y_list.append(tags2idxs(tags[idx]))\n",
        "            max_len_token = max(max_len_token, len(tags[idx]))\n",
        "            \n",
        "        # Fill in the data into numpy nd-arrays filled with padding indices.\n",
        "        x = np.ones([current_batch_size, max_len_token], dtype=np.int32) * token2idx['<PAD>']\n",
        "        y = np.ones([current_batch_size, max_len_token], dtype=np.int32) * tag2idx['O']\n",
        "        lengths = np.zeros(current_batch_size, dtype=np.int32)\n",
        "        for n in range(current_batch_size):\n",
        "            utt_len = len(x_list[n])\n",
        "\n",
        "            x[n, :utt_len] = x_list[n]\n",
        "            lengths[n] = utt_len\n",
        "            y[n, :utt_len] = y_list[n]\n",
        "        yield x, y, lengths"
      ],
      "execution_count": 23,
      "outputs": []
    },
    {
      "cell_type": "markdown",
      "metadata": {
        "id": "3bixg69LdbD1"
      },
      "source": [
        "### 1.5. Dictionary Mappings"
      ]
    },
    {
      "cell_type": "markdown",
      "metadata": {
        "id": "i4hfRUSUZxb1"
      },
      "source": [
        "The next additional functions will help you to create the mapping between tokens and ids for a sentence. "
      ]
    },
    {
      "cell_type": "code",
      "metadata": {
        "id": "Lq3h1OFEZxb1"
      },
      "source": [
        "def words2idxs(tokens_list):\n",
        "    return [token2idx[word] for word in tokens_list]\n",
        "\n",
        "def tags2idxs(tags_list):\n",
        "    return [tag2idx[tag] for tag in tags_list]\n",
        "\n",
        "def idxs2words(idxs):\n",
        "    return [idx2token[idx] for idx in idxs]\n",
        "\n",
        "def idxs2tags(idxs):\n",
        "    return [idx2tag[idx] for idx in idxs]"
      ],
      "execution_count": 9,
      "outputs": []
    },
    {
      "cell_type": "markdown",
      "metadata": {
        "id": "ACXIviMmGQSm"
      },
      "source": [
        "#2. Model"
      ]
    },
    {
      "cell_type": "markdown",
      "metadata": {
        "id": "8dWlABhuP0Wf"
      },
      "source": [
        "### 2.1. Hyper-Parameters"
      ]
    },
    {
      "cell_type": "code",
      "metadata": {
        "id": "VVWg8E9SxjG5"
      },
      "source": [
        "import torch\n",
        "from torch.nn import LSTM\n",
        "from torch import nn\n",
        "from torch import optim\n",
        "import torch.nn.functional as F\n",
        "import matplotlib.pyplot as plt \n",
        "import time\n",
        "import math\n",
        "\n",
        "# specify GPU\n",
        "device = torch.device(\"cuda\")"
      ],
      "execution_count": 11,
      "outputs": []
    },
    {
      "cell_type": "code",
      "metadata": {
        "id": "o3s914lSJeRb"
      },
      "source": [
        "# Model design\n",
        "EMBEDDING_DIM = 200\n",
        "HIDDEN_DIM = 128\n",
        "DROPOUT = 0.5\n",
        "NUM_LAYERS = 2\n",
        "BIDIRECTIONAL = True\n",
        "\n",
        "# Training phase\n",
        "BATCH_SIZE = 32\n",
        "EPOCHS = 20\n",
        "LR = 0.01\n",
        "LR_Decay = math.sqrt(2)"
      ],
      "execution_count": 41,
      "outputs": []
    },
    {
      "cell_type": "markdown",
      "metadata": {
        "id": "TKQE11m7L2a9"
      },
      "source": [
        "[This page](https://pytorch.org/docs/stable/generated/torch.nn.LSTM.html) may help you understand the following code."
      ]
    },
    {
      "cell_type": "markdown",
      "metadata": {
        "id": "eafU9ZGMZxb5"
      },
      "source": [
        "### 2.2. Design Network\n",
        "\n",
        "This is the most important part of the assignment. Here we will specify the network architecture based on TensorFlow building blocks. It's fun and easy as a lego constructor! We will create an LSTM network which will produce probability distribution over tags for each token in a sentence. To take into account both right and left contexts of the token, we will use Bi-Directional LSTM (Bi-LSTM). Dense layer will be used on top to perform tag classification.  "
      ]
    },
    {
      "cell_type": "code",
      "metadata": {
        "id": "qK9Wmbf_JM0E"
      },
      "source": [
        "class LSTMTagger(nn.Module):\n",
        "\n",
        "    def __init__(self, embedding_dim, hidden_dim, vocab_size, tagset_size):\n",
        "        super(LSTMTagger, self).__init__()\n",
        "        self.hidden_dim = hidden_dim\n",
        "\n",
        "        self.word_embeddings = nn.Embedding(vocab_size, embedding_dim)\n",
        "\n",
        "        # The LSTM takes word embeddings as inputs, and outputs hidden states\n",
        "        # with dimensionality hidden_dim.\n",
        "        self.lstm = nn.LSTM(embedding_dim, \n",
        "                            hidden_dim, \n",
        "                            num_layers=NUM_LAYERS, \n",
        "                            dropout=DROPOUT,\n",
        "                            bidirectional=BIDIRECTIONAL)\n",
        "\n",
        "        # The linear layer that maps from hidden state space to tag space\n",
        "        if BIDIRECTIONAL:\n",
        "          self.hidden2tag = nn.Linear(hidden_dim*2, tagset_size)\n",
        "        else:\n",
        "          self.hidden2tag = nn.Linear(hidden_dim, tagset_size)\n",
        "\n",
        "    def forward(self, sentence):\n",
        "                                                    # sentence: [bs x T]\n",
        "        embeds = self.word_embeddings(sentence)\n",
        "                                                      # embeds: [bs x T x E] \n",
        "        embeds = embeds.permute(1, 0, 2)\n",
        "        lstm_out, _ = self.lstm(embeds)\n",
        "                                                          # in: [T x bs x E]\n",
        "                                                         # out: [T x bs x D*n-dir]\n",
        "        preds = self.hidden2tag(lstm_out)\n",
        "                                                       # preds: [T x bs x N]\n",
        "        tag_scores = F.log_softmax(preds, dim=2)\n",
        "        return tag_scores.permute(1, 0, 2), preds.permute(1, 0, 2)"
      ],
      "execution_count": 42,
      "outputs": []
    },
    {
      "cell_type": "markdown",
      "metadata": {
        "id": "Z7RqxJp4PcwE"
      },
      "source": [
        "### 2.3. Loss and Optimizer"
      ]
    },
    {
      "cell_type": "markdown",
      "metadata": {
        "id": "hOjJv5bEDSJs"
      },
      "source": [
        "During training we do not need predictions of the network, but we need a loss function. We will use [cross-entropy loss](https://pytorch.org/docs/stable/generated/torch.nn.CrossEntropyLoss.html?highlight=crossentropy#torch.nn.CrossEntropyLoss), efficiently implemented in PyTorch. \n",
        "\n",
        "Note that it should be applied to the output of the model before softmax probabilities. Also note,  that we do not want to take into account loss terms coming from `<PAD>` tokens. So we need to mask them out, before computing the loss.\n",
        "\n",
        "\n",
        "Moreover, please note that because the `O` class (not-entity words) is large. To mitigate the imbalance classes, we use weights in the loss function to rescale the loss for each class. "
      ]
    },
    {
      "cell_type": "code",
      "metadata": {
        "colab": {
          "base_uri": "https://localhost:8080/"
        },
        "id": "42NetX6ucPwf",
        "outputId": "07033002-998e-4fa6-9a6e-0419d9414590"
      },
      "source": [
        "from sklearn.utils.class_weight import compute_class_weight\n",
        "\n",
        "#compute the class weights\n",
        "flat_train_tags = [item for sublist in train_tags for item in sublist]\n",
        "# class_wts = compute_class_weight('balanced', np.unique(flat_train_tags), flat_train_tags)\n",
        "class_wts = compute_class_weight('balanced', idx2tag, flat_train_tags)\n",
        "print([\"{0:0.2f}\".format(w) for w in class_wts])\n",
        "\n",
        "weights = torch.tensor(class_wts, dtype=torch.float)"
      ],
      "execution_count": 30,
      "outputs": [
        {
          "output_type": "stream",
          "text": [
            "['0.05', '20.52', '24.05', '14.97', '8.22', '7.40', '5.37', '6.29', '5.94', '15.16', '11.70', '21.94', '4.78', '20.61', '21.74', '9.88', '70.02', '52.32', '82.09', '82.09', '68.02']\n"
          ],
          "name": "stdout"
        }
      ]
    },
    {
      "cell_type": "code",
      "metadata": {
        "colab": {
          "base_uri": "https://localhost:8080/"
        },
        "id": "251BHIyHjRjP",
        "outputId": "8c12f521-cda3-4634-af16-827c8b69944c"
      },
      "source": [
        "len(weights)"
      ],
      "execution_count": 31,
      "outputs": [
        {
          "output_type": "execute_result",
          "data": {
            "text/plain": [
              "21"
            ]
          },
          "metadata": {
            "tags": []
          },
          "execution_count": 31
        }
      ]
    },
    {
      "cell_type": "code",
      "metadata": {
        "id": "-Sj21sU_KTs-"
      },
      "source": [
        "model = LSTMTagger(EMBEDDING_DIM, HIDDEN_DIM, len(token2idx), len(tag2idx))\n",
        "\n",
        "# push the model to GPU\n",
        "model = model.to(device)\n",
        "\n",
        "# loss_function = nn.CrossEntropyLoss(ignore_index=tag2idx[\"O\"], weight=weights.to(device))\n",
        "loss_function = nn.CrossEntropyLoss(ignore_index=tag2idx[\"O\"])\n",
        "optimizer = optim.SGD(model.parameters(), lr=LR)\n",
        "# optimizer = optim.Adam(model.parameters(), lr=LR)"
      ],
      "execution_count": 43,
      "outputs": []
    },
    {
      "cell_type": "markdown",
      "metadata": {
        "id": "jeWeHumKJVNm"
      },
      "source": [
        "# Train"
      ]
    },
    {
      "cell_type": "markdown",
      "metadata": {
        "id": "EBviB9Pmra9-"
      },
      "source": [
        "### 3.1. Train Function"
      ]
    },
    {
      "cell_type": "markdown",
      "metadata": {
        "id": "zmtdehcbNox4"
      },
      "source": [
        "[This page](https://pytorch.org/tutorials/beginner/nlp/sequence_models_tutorial.html) may help you to understand the following cell."
      ]
    },
    {
      "cell_type": "code",
      "metadata": {
        "id": "57AoslodI8Bh"
      },
      "source": [
        "# TEMP = 2\n",
        "\n",
        "# function to train the model\n",
        "def train():\n",
        "  \n",
        "  model.train()\n",
        "\n",
        "  avg_loss = 0\n",
        "  n = 0\n",
        "  for x_batch, y_batch, lengths in batches_generator(BATCH_SIZE, train_tokens, train_tags):\n",
        "\n",
        "      # Step 1. Remember that Pytorch accumulates gradients.\n",
        "      # We need to clear them out before each instance\n",
        "      model.zero_grad()\n",
        "\n",
        "      # Step 2. Get our inputs ready for the network, that is, turn them into\n",
        "      # Tensors of word indices.\n",
        "      sentence_in = torch.LongTensor(x_batch)   # [bs x T]\n",
        "      targets = torch.LongTensor(y_batch)        # [bs x T]\n",
        "\n",
        "      # Step 3. Run our forward pass.\n",
        "      _, preds = model(sentence_in.to(device))                         # [bs x T x N]\n",
        "\n",
        "      # print(\"Train Target size: \", targets.shape)\n",
        "      # print(\"Train preds size: \", preds.shape)\n",
        "\n",
        "      # Step 4. Compute the loss, gradients, and update the parameters by\n",
        "      #  calling optimizer.step()\n",
        "      loss = loss_function(preds.permute(0, 2, 1), targets.to(device))\n",
        "      loss.backward()\n",
        "\n",
        "      # clip the the gradients to 1.0. It helps in preventing the exploding gradient problem\n",
        "      nn.utils.clip_grad_norm_(model.parameters(), 1.0)\n",
        "\n",
        "      optimizer.step()\n",
        "      \n",
        "      avg_loss += float(loss)\n",
        "      n += 1\n",
        "  \n",
        " \n",
        "  return avg_loss/n"
      ],
      "execution_count": 44,
      "outputs": []
    },
    {
      "cell_type": "markdown",
      "metadata": {
        "id": "1MS2LHnb0-l1"
      },
      "source": [
        "### 3.2. Eval Function"
      ]
    },
    {
      "cell_type": "code",
      "metadata": {
        "id": "WG2-Rf5X1B-O"
      },
      "source": [
        "# function for evaluating the model\n",
        "def evaluate():\n",
        "  \n",
        "  # to set in evaluation mode (together with torch.no_grad())\n",
        "  model.eval()\n",
        "  \n",
        "  losses = 0\n",
        "  n = 0\n",
        "  # iterate over batches\n",
        "  for x_batch, y_batch, lengths in batches_generator(BATCH_SIZE, validation_tokens, validation_tags):\n",
        "\n",
        "    sentence_in = torch.LongTensor(x_batch)    # [bs x T]\n",
        "    targets = torch.LongTensor(y_batch)        # [bs x T]\n",
        "\n",
        "    # deactivate autograd\n",
        "    with torch.no_grad():\n",
        "      \n",
        "      # model predictions\n",
        "      _, preds = model(sentence_in.to(device))\n",
        "                                                            # [bs x T x N]\n",
        "    # print(\"Validation Target size: \", targets.shape)\n",
        "    # print(\"Validation preds size: \", preds.shape)\n",
        "    \n",
        "    # compute the validation loss between actual and predicted values\n",
        "    loss = loss_function(preds.permute(0, 2, 1), targets.to(device))\n",
        "    losses += float(loss)\n",
        "    n += 1\n",
        "\n",
        "  return losses/n"
      ],
      "execution_count": 45,
      "outputs": []
    },
    {
      "cell_type": "markdown",
      "metadata": {
        "id": "TIxveOUpLgIg"
      },
      "source": [
        "### 3.3. Main Training Loop "
      ]
    },
    {
      "cell_type": "code",
      "metadata": {
        "colab": {
          "base_uri": "https://localhost:8080/",
          "height": 658
        },
        "id": "mxkjRNPDJREN",
        "outputId": "7ed60d9c-7773-426b-f20c-50d6a7bda8b8"
      },
      "source": [
        "train_losses = []\n",
        "val_losses = []\n",
        "tic = time.time()  \n",
        "for epoch in range(EPOCHS): \n",
        "  train_loss = train()\n",
        "  train_losses.append(train_loss)\n",
        "\n",
        "  val_loss = evaluate()\n",
        "  val_losses.append(val_loss)\n",
        "\n",
        "  print(\"Epoch %d of %d: Train Loss = %.2f, Val Loss = %.2f\" \n",
        "        % (epoch+1, EPOCHS, train_loss, val_loss))\n",
        "  LR = LR / LR_Decay\n",
        "  optimizer = optim.SGD(model.parameters(), lr=LR)\n",
        "\n",
        "tac = time.time()\n",
        "print(\"Training %d epochs took %d sec. \" % (EPOCHS, (tac-tic)))\n",
        "\n",
        "train_plt, = plt.plot(range(1, EPOCHS+1, 1), train_losses, label=\"train\")\n",
        "plt.title(\"Training Curve\")\n",
        "plt.xlabel(\"Epoch idx\")\n",
        "plt.ylabel(\"Loss\")\n",
        "val_plt, = plt.plot(range(1, EPOCHS+1, 1), val_losses, label=\"val\")\n",
        "plt.legend(handles=[train_plt, val_plt], labels=[\"train\", \"validation\"])\n",
        "\n",
        "plt.show()"
      ],
      "execution_count": 46,
      "outputs": [
        {
          "output_type": "stream",
          "text": [
            "Epoch 1 of 20: Train Loss = 3.01, Val Loss = 2.99\n",
            "Epoch 2 of 20: Train Loss = 2.96, Val Loss = 2.96\n",
            "Epoch 3 of 20: Train Loss = 2.95, Val Loss = 2.94\n",
            "Epoch 4 of 20: Train Loss = 2.92, Val Loss = 2.92\n",
            "Epoch 5 of 20: Train Loss = 2.92, Val Loss = 2.91\n",
            "Epoch 6 of 20: Train Loss = 2.92, Val Loss = 2.91\n",
            "Epoch 7 of 20: Train Loss = 2.91, Val Loss = 2.90\n",
            "Epoch 8 of 20: Train Loss = 2.91, Val Loss = 2.90\n",
            "Epoch 9 of 20: Train Loss = 2.90, Val Loss = 2.90\n",
            "Epoch 10 of 20: Train Loss = 2.89, Val Loss = 2.90\n",
            "Epoch 11 of 20: Train Loss = 2.90, Val Loss = 2.90\n",
            "Epoch 12 of 20: Train Loss = 2.90, Val Loss = 2.90\n",
            "Epoch 13 of 20: Train Loss = 2.90, Val Loss = 2.90\n",
            "Epoch 14 of 20: Train Loss = 2.88, Val Loss = 2.90\n",
            "Epoch 15 of 20: Train Loss = 2.90, Val Loss = 2.89\n",
            "Epoch 16 of 20: Train Loss = 2.90, Val Loss = 2.89\n",
            "Epoch 17 of 20: Train Loss = 2.88, Val Loss = 2.89\n",
            "Epoch 18 of 20: Train Loss = 2.90, Val Loss = 2.89\n",
            "Epoch 19 of 20: Train Loss = 2.90, Val Loss = 2.89\n",
            "Epoch 20 of 20: Train Loss = 2.90, Val Loss = 2.89\n",
            "Training 20 epochs took 55 sec. \n"
          ],
          "name": "stdout"
        },
        {
          "output_type": "display_data",
          "data": {
            "image/png": "[encoded data removed]",
            "text/plain": [
              "<Figure size 432x288 with 1 Axes>"
            ]
          },
          "metadata": {
            "tags": [],
            "needs_background": "light"
          }
        }
      ]
    },
    {
      "cell_type": "markdown",
      "metadata": {
        "id": "-80abFll1OUh"
      },
      "source": [
        "# 4. Test\n",
        "We should get predictions for test data (without updating parameters) to evaluation the trained model."
      ]
    },
    {
      "cell_type": "code",
      "metadata": {
        "id": "rpupVhvWUchZ"
      },
      "source": [
        "# from sklearn.metrics import classification_report\n",
        "from evaluation import precision_recall_f1"
      ],
      "execution_count": 27,
      "outputs": []
    },
    {
      "cell_type": "code",
      "metadata": {
        "id": "l0T9BrebOoF_"
      },
      "source": [
        "y_true, y_pred = [], []\n",
        "for x_batch, y_batch, lengths in batches_generator(BATCH_SIZE, test_tokens, test_tags):\n",
        "\n",
        "  with torch.no_grad():\n",
        "    preds, _ = model(torch.LongTensor(x_batch).to(device))            # [bs x T x N]\n",
        "\n",
        "  preds = np.argmax(preds.cpu().numpy(), axis=2)                 # [bs x T]\n",
        "\n",
        "  for target_tags, pred_tags, tokens in zip (y_batch, preds, x_batch):\n",
        "    for target_tag, pred_tag, token in zip (target_tags, pred_tags, tokens):\n",
        "      if token != token2idx[\"<PAD>\"]:\n",
        "        y_true.append(target_tag)    \n",
        "        y_pred.append(pred_tag)\n",
        "\n",
        "precision_recall_f1(idxs2tags(y_true), idxs2tags(y_pred), print_results=True, short_report=True)\n",
        "# print(\"test prediction shape after argmax: \", len(preds))\n",
        "# print(classification_report(y_true, y_pred))"
      ],
      "execution_count": null,
      "outputs": []
    },
    {
      "cell_type": "markdown",
      "metadata": {
        "id": "GnDgcNTvpjWx"
      },
      "source": [
        "# TODOs\n",
        "\n",
        "- [x] Running on the GPU\n",
        "- [x] Plot training loss curve\n",
        "- [x] Mini-batch processing\n",
        "  * Check dimensions\n",
        "  * Padding to the max length\n",
        "- [x] Loss function\n",
        "  * Cross entropy loss\n",
        "  * Applying mask to the loss\n",
        "  * Applying class weights to the loss function\n",
        "- [x] Evaluate on val/test set by Precision, Recall, F1 metrics\n",
        "- [x] Dynamic learning rate\n",
        "- [x] Using BiLSTM\n",
        "- [X] Reqularizations such as dropout\n",
        "- [ ] Hyperparameter tuning\n",
        "  * EMBEDDING_DIM\n",
        "  * HIDDEN_DIM\n",
        "  * Batch size\n",
        "  * Number of epochs\n",
        "  * Optimizer algorithm\n",
        "  * ...\n",
        "\n",
        "\n",
        "\n",
        "\n"
      ]
    },
    {
      "cell_type": "code",
      "metadata": {
        "id": "9ON8vx_lIcx4"
      },
      "source": [
        ""
      ],
      "execution_count": null,
      "outputs": []
    }
  ]
}